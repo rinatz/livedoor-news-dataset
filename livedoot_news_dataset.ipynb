{
  "nbformat": 4,
  "nbformat_minor": 0,
  "metadata": {
    "colab": {
      "provenance": [],
      "toc_visible": true,
      "mount_file_id": "1KdcwiT1D7VoA6hklJdM71T4n9AZwIg0h",
      "authorship_tag": "ABX9TyNNMW63CodyjIiM6i9O0ZRl",
      "include_colab_link": true
    },
    "kernelspec": {
      "name": "python3",
      "display_name": "Python 3"
    },
    "language_info": {
      "name": "python"
    }
  },
  "cells": [
    {
      "cell_type": "markdown",
      "metadata": {
        "id": "view-in-github",
        "colab_type": "text"
      },
      "source": [
        "<a href=\"https://colab.research.google.com/github/rinatz/livedoor-news-dataset/blob/master/livedoot_news_dataset.ipynb\" target=\"_parent\"><img src=\"https://colab.research.google.com/assets/colab-badge.svg\" alt=\"Open In Colab\"/></a>"
      ]
    },
    {
      "cell_type": "markdown",
      "source": [
        "# MeCab のインストール"
      ],
      "metadata": {
        "id": "QfbRZeSr11cW"
      }
    },
    {
      "cell_type": "code",
      "source": [
        "!curl -fsSL \"https://drive.google.com/uc?export=download&id=0B4y35FiV1wh7cENtOXlicTFaRUE\" | tar zxv"
      ],
      "metadata": {
        "id": "Ynu8Qqqphv3a"
      },
      "execution_count": null,
      "outputs": []
    },
    {
      "cell_type": "code",
      "source": [
        "%cd /content/mecab-0.996/\n",
        "\n",
        "!./configure --with-charset=utf8 --enable-utf8-only\n",
        "!make\n",
        "!make install\n",
        "!ldconfig"
      ],
      "metadata": {
        "id": "6UuWSyHth9wj"
      },
      "execution_count": null,
      "outputs": []
    },
    {
      "cell_type": "markdown",
      "source": [
        "# NEologd のインストール"
      ],
      "metadata": {
        "id": "W2pFguMZ14yj"
      }
    },
    {
      "cell_type": "code",
      "source": [
        "%cd /content/\n",
        "\n",
        "!git clone --depth 1 https://github.com/neologd/mecab-ipadic-neologd.git"
      ],
      "metadata": {
        "id": "jUDVqPxSikQP"
      },
      "execution_count": null,
      "outputs": []
    },
    {
      "cell_type": "code",
      "source": [
        "%cd /content/mecab-ipadic-neologd/\n",
        "\n",
        "!./bin/install-mecab-ipadic-neologd -n -y"
      ],
      "metadata": {
        "id": "cDeASD7UirFd"
      },
      "execution_count": null,
      "outputs": []
    },
    {
      "cell_type": "markdown",
      "source": [
        "# リポジトリをクローン"
      ],
      "metadata": {
        "id": "SNmf32zy19bC"
      }
    },
    {
      "cell_type": "code",
      "source": [
        "%cd /content/\n",
        "\n",
        "!git clone --depth 1 https://github.com/rinatz/livedoor-news-dataset.git"
      ],
      "metadata": {
        "id": "NuAWgxWonwZD"
      },
      "execution_count": null,
      "outputs": []
    },
    {
      "cell_type": "markdown",
      "source": [
        "# ライブラリのインストール"
      ],
      "metadata": {
        "id": "sM-QF_562JdQ"
      }
    },
    {
      "cell_type": "code",
      "source": [
        "%cd /content/livedoor-news-dataset/\n",
        "\n",
        "!pip install -r requirements.txt"
      ],
      "metadata": {
        "id": "HJ_fwifbn3Gd"
      },
      "execution_count": null,
      "outputs": []
    },
    {
      "cell_type": "markdown",
      "source": [
        "# データセットのダウンロード"
      ],
      "metadata": {
        "id": "3XhWME152L3V"
      }
    },
    {
      "cell_type": "code",
      "source": [
        "!python download.py"
      ],
      "metadata": {
        "id": "KkuOEZm2oXxI"
      },
      "execution_count": null,
      "outputs": []
    },
    {
      "cell_type": "markdown",
      "source": [
        "# モデルの作成"
      ],
      "metadata": {
        "id": "6mWOZx282OGU"
      }
    },
    {
      "cell_type": "code",
      "source": [
        "!python train.py"
      ],
      "metadata": {
        "id": "aJnRkHoDo3yb"
      },
      "execution_count": null,
      "outputs": []
    },
    {
      "cell_type": "markdown",
      "source": [
        "# モデルを Google ドライブに保存"
      ],
      "metadata": {
        "id": "ruQ5QENk2Tok"
      }
    },
    {
      "cell_type": "code",
      "source": [
        "%cp -r ~/.keras/datasets/livedoor /content/drive/MyDrive"
      ],
      "metadata": {
        "id": "qrtLvFA9qKQt"
      },
      "execution_count": 16,
      "outputs": []
    }
  ]
}