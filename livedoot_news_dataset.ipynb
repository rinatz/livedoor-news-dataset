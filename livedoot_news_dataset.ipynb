{
  "cells": [
    {
      "cell_type": "markdown",
      "metadata": {
        "colab_type": "text",
        "id": "view-in-github"
      },
      "source": [
        "<a href=\"https://colab.research.google.com/github/rinatz/livedoor-news-dataset/blob/master/livedoot_news_dataset.ipynb\" target=\"_parent\"><img src=\"https://colab.research.google.com/assets/colab-badge.svg\" alt=\"Open In Colab\"/></a>"
      ]
    },
    {
      "cell_type": "markdown",
      "metadata": {
        "id": "SNmf32zy19bC"
      },
      "source": [
        "# リポジトリをクローン"
      ]
    },
    {
      "cell_type": "code",
      "execution_count": null,
      "metadata": {
        "id": "NuAWgxWonwZD"
      },
      "outputs": [],
      "source": [
        "%cd /content/\n",
        "\n",
        "!git clone --depth 1 https://github.com/rinatz/livedoor-news-dataset.git"
      ]
    },
    {
      "cell_type": "markdown",
      "metadata": {},
      "source": [
        "# 形態素解析用の辞書のダウンロード"
      ]
    },
    {
      "cell_type": "code",
      "execution_count": null,
      "metadata": {},
      "outputs": [],
      "source": [
        "%cd /content/\n",
        "\n",
        "!curl -fsSLO https://github.com/daac-tools/vibrato/releases/download/v0.5.0/ipadic-mecab-2_7_0.tar.xz\n",
        "!tar xvf ipadic-mecab-2_7_0.tar.xz\n",
        "!mv ipadic-mecab-2_7_0 livedoor-news-dataset"
      ]
    },
    {
      "cell_type": "markdown",
      "metadata": {
        "id": "sM-QF_562JdQ"
      },
      "source": [
        "# ライブラリのインストール"
      ]
    },
    {
      "cell_type": "code",
      "execution_count": null,
      "metadata": {
        "id": "HJ_fwifbn3Gd"
      },
      "outputs": [],
      "source": [
        "%cd /content/livedoor-news-dataset/\n",
        "\n",
        "%pip install -r requirements.txt"
      ]
    },
    {
      "cell_type": "markdown",
      "metadata": {
        "id": "3XhWME152L3V"
      },
      "source": [
        "# データセットのダウンロード"
      ]
    },
    {
      "cell_type": "code",
      "execution_count": null,
      "metadata": {
        "id": "KkuOEZm2oXxI"
      },
      "outputs": [],
      "source": [
        "!python download.py"
      ]
    },
    {
      "cell_type": "markdown",
      "metadata": {
        "id": "6mWOZx282OGU"
      },
      "source": [
        "# モデルの作成"
      ]
    },
    {
      "cell_type": "code",
      "execution_count": null,
      "metadata": {
        "id": "aJnRkHoDo3yb"
      },
      "outputs": [],
      "source": [
        "!python train.py"
      ]
    },
    {
      "cell_type": "markdown",
      "metadata": {
        "id": "ruQ5QENk2Tok"
      },
      "source": [
        "# モデルを Google ドライブに保存"
      ]
    },
    {
      "cell_type": "code",
      "execution_count": 16,
      "metadata": {
        "id": "qrtLvFA9qKQt"
      },
      "outputs": [],
      "source": [
        "%cp -r ~/.keras/datasets/livedoor /content/drive/MyDrive"
      ]
    }
  ],
  "metadata": {
    "colab": {
      "authorship_tag": "ABX9TyNNMW63CodyjIiM6i9O0ZRl",
      "include_colab_link": true,
      "mount_file_id": "1KdcwiT1D7VoA6hklJdM71T4n9AZwIg0h",
      "provenance": [],
      "toc_visible": true
    },
    "kernelspec": {
      "display_name": "Python 3",
      "name": "python3"
    },
    "language_info": {
      "name": "python"
    }
  },
  "nbformat": 4,
  "nbformat_minor": 0
}
