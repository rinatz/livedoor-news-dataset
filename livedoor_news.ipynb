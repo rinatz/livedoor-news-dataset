{
 "cells": [
  {
   "cell_type": "code",
   "execution_count": 1,
   "metadata": {},
   "outputs": [
    {
     "name": "stderr",
     "output_type": "stream",
     "text": [
      "2025-01-18 11:33:54.319747: I tensorflow/core/util/port.cc:153] oneDNN custom operations are on. You may see slightly different numerical results due to floating-point round-off errors from different computation orders. To turn them off, set the environment variable `TF_ENABLE_ONEDNN_OPTS=0`.\n",
      "2025-01-18 11:33:54.328853: E external/local_xla/xla/stream_executor/cuda/cuda_fft.cc:477] Unable to register cuFFT factory: Attempting to register factory for plugin cuFFT when one has already been registered\n",
      "WARNING: All log messages before absl::InitializeLog() is called are written to STDERR\n",
      "E0000 00:00:1737167634.340264   74620 cuda_dnn.cc:8310] Unable to register cuDNN factory: Attempting to register factory for plugin cuDNN when one has already been registered\n",
      "E0000 00:00:1737167634.343517   74620 cuda_blas.cc:1418] Unable to register cuBLAS factory: Attempting to register factory for plugin cuBLAS when one has already been registered\n",
      "2025-01-18 11:33:54.357072: I tensorflow/core/platform/cpu_feature_guard.cc:210] This TensorFlow binary is optimized to use available CPU instructions in performance-critical operations.\n",
      "To enable the following instructions: AVX2 AVX_VNNI FMA, in other operations, rebuild TensorFlow with the appropriate compiler flags.\n"
     ]
    }
   ],
   "source": [
    "import keras\n",
    "import numpy as np\n",
    "import MeCab\n",
    "from tokenizers import Tokenizer\n",
    "from tokenizers.models import WordLevel\n",
    "from tokenizers.pre_tokenizers import Whitespace\n",
    "from tokenizers.trainers import WordLevelTrainer"
   ]
  },
  {
   "cell_type": "code",
   "execution_count": 11,
   "metadata": {},
   "outputs": [],
   "source": [
    "url = \"https://www.rondhuit.com/download/ldcc-20140209.tar.gz\"\n",
    "batch_size = 32\n",
    "validation_split = 0.2\n",
    "seed=42\n",
    "max_sequence_length = 100"
   ]
  },
  {
   "cell_type": "markdown",
   "metadata": {},
   "source": [
    "## livedoorニュースコーパスのダウンロードと解凍"
   ]
  },
  {
   "cell_type": "code",
   "execution_count": 4,
   "metadata": {},
   "outputs": [],
   "source": [
    "extracted_dir = keras.utils.get_file(\"ldcc-20140209\", origin=url, extract=True)"
   ]
  },
  {
   "cell_type": "markdown",
   "metadata": {},
   "source": [
    "## データセットの作成"
   ]
  },
  {
   "cell_type": "code",
   "execution_count": 5,
   "metadata": {},
   "outputs": [
    {
     "name": "stdout",
     "output_type": "stream",
     "text": [
      "Found 7376 files belonging to 9 classes.\n",
      "Using 5901 files for training.\n"
     ]
    },
    {
     "name": "stderr",
     "output_type": "stream",
     "text": [
      "W0000 00:00:1737167965.419039   74620 gpu_device.cc:2344] Cannot dlopen some GPU libraries. Please make sure the missing libraries mentioned above are installed properly if you would like to use GPU. Follow the guide at https://www.tensorflow.org/install/gpu for how to download and setup the required libraries for your platform.\n",
      "Skipping registering GPU devices...\n"
     ]
    },
    {
     "name": "stdout",
     "output_type": "stream",
     "text": [
      "Found 7376 files belonging to 9 classes.\n",
      "Using 1475 files for validation.\n"
     ]
    }
   ],
   "source": [
    "data_dir = f\"{extracted_dir}/text\"\n",
    "\n",
    "train_ds = keras.utils.text_dataset_from_directory(\n",
    "    data_dir,\n",
    "    batch_size=batch_size,\n",
    "    validation_split=validation_split,\n",
    "    subset=\"training\",\n",
    "    seed=seed,\n",
    ")\n",
    "val_ds = keras.utils.text_dataset_from_directory(\n",
    "    data_dir,\n",
    "    batch_size=batch_size,\n",
    "    validation_split=validation_split,\n",
    "    subset=\"validation\",\n",
    "    seed=seed,\n",
    ")"
   ]
  },
  {
   "cell_type": "markdown",
   "metadata": {},
   "source": [
    "## トークン解析"
   ]
  },
  {
   "cell_type": "code",
   "execution_count": 6,
   "metadata": {},
   "outputs": [
    {
     "name": "stderr",
     "output_type": "stream",
     "text": [
      "2025-01-18 11:40:28.845077: I tensorflow/core/framework/local_rendezvous.cc:405] Local rendezvous is aborting with status: OUT_OF_RANGE: End of sequence\n"
     ]
    }
   ],
   "source": [
    "class_names = train_ds.class_names\n",
    "mecab = MeCab.Tagger()\n",
    "\n",
    "def mecab_tokenize(text):\n",
    "    node = mecab.parseToNode(text)\n",
    "    tokens = []\n",
    "    while node:\n",
    "        if node.feature.split(',')[0] != 'BOS/EOS':\n",
    "            tokens.append(node.surface)\n",
    "        node = node.next\n",
    "    return tokens\n",
    "\n",
    "tokenizer = Tokenizer(WordLevel(unk_token=\"[UNK]\"))\n",
    "tokenizer.pre_tokenizer = Whitespace()\n",
    "\n",
    "texts = [text.numpy().decode(\"utf-8\") for text, label in train_ds.unbatch()]\n",
    "trainer = WordLevelTrainer(vocab_size=20000, special_tokens=[\"[PAD]\", \"[UNK]\"])\n",
    "tokenizer.train_from_iterator(texts, trainer)"
   ]
  },
  {
   "cell_type": "markdown",
   "metadata": {},
   "source": [
    "## データの前処理"
   ]
  },
  {
   "cell_type": "code",
   "execution_count": 7,
   "metadata": {},
   "outputs": [
    {
     "name": "stderr",
     "output_type": "stream",
     "text": [
      "2025-01-18 11:41:21.589402: I tensorflow/core/framework/local_rendezvous.cc:405] Local rendezvous is aborting with status: OUT_OF_RANGE: End of sequence\n",
      "2025-01-18 11:41:36.832598: I tensorflow/core/framework/local_rendezvous.cc:405] Local rendezvous is aborting with status: OUT_OF_RANGE: End of sequence\n"
     ]
    },
    {
     "name": "stdout",
     "output_type": "stream",
     "text": [
      "X_train shape: (5901, 100), y_train shape: (5901,)\n",
      "X_val shape: (1475, 100), y_val shape: (1475,)\n"
     ]
    }
   ],
   "source": [
    "def preprocess_dataset(dataset, tokenizer, max_len):\n",
    "    texts = [text.numpy().decode(\"utf-8\") for text, label in dataset.unbatch()]\n",
    "    labels = [label.numpy() for text, label in dataset.unbatch()]\n",
    "    tokenized = [mecab_tokenize(text) for text in texts]\n",
    "    tokenized_ids = [tokenizer.encode(\" \".join(tokens)).ids for tokens in tokenized]\n",
    "    padded = keras.utils.pad_sequences(tokenized_ids, maxlen=max_len, padding='post', truncating='post')\n",
    "    return np.array(padded), np.array(labels)\n",
    "\n",
    "X_train, y_train = preprocess_dataset(train_ds, tokenizer, max_sequence_length)\n",
    "X_val, y_val = preprocess_dataset(val_ds, tokenizer, max_sequence_length)\n",
    "\n",
    "print(f\"X_train shape: {X_train.shape}, y_train shape: {y_train.shape}\")\n",
    "print(f\"X_val shape: {X_val.shape}, y_val shape: {y_val.shape}\")"
   ]
  },
  {
   "cell_type": "markdown",
   "metadata": {},
   "source": [
    "## モデルのトレーニング"
   ]
  },
  {
   "cell_type": "code",
   "execution_count": 8,
   "metadata": {},
   "outputs": [
    {
     "name": "stdout",
     "output_type": "stream",
     "text": [
      "Epoch 1/10\n",
      "\u001b[1m185/185\u001b[0m \u001b[32m━━━━━━━━━━━━━━━━━━━━\u001b[0m\u001b[37m\u001b[0m \u001b[1m11s\u001b[0m 50ms/step - accuracy: 0.1090 - loss: 2.1926 - val_accuracy: 0.1220 - val_loss: 2.1936\n",
      "Epoch 2/10\n",
      "\u001b[1m185/185\u001b[0m \u001b[32m━━━━━━━━━━━━━━━━━━━━\u001b[0m\u001b[37m\u001b[0m \u001b[1m9s\u001b[0m 48ms/step - accuracy: 0.1515 - loss: 2.1741 - val_accuracy: 0.1322 - val_loss: 2.1999\n",
      "Epoch 3/10\n",
      "\u001b[1m185/185\u001b[0m \u001b[32m━━━━━━━━━━━━━━━━━━━━\u001b[0m\u001b[37m\u001b[0m \u001b[1m9s\u001b[0m 48ms/step - accuracy: 0.2176 - loss: 2.1145 - val_accuracy: 0.1234 - val_loss: 2.2356\n",
      "Epoch 4/10\n",
      "\u001b[1m185/185\u001b[0m \u001b[32m━━━━━━━━━━━━━━━━━━━━\u001b[0m\u001b[37m\u001b[0m \u001b[1m9s\u001b[0m 47ms/step - accuracy: 0.3020 - loss: 1.9649 - val_accuracy: 0.1349 - val_loss: 2.3406\n",
      "Epoch 5/10\n",
      "\u001b[1m185/185\u001b[0m \u001b[32m━━━━━━━━━━━━━━━━━━━━\u001b[0m\u001b[37m\u001b[0m \u001b[1m9s\u001b[0m 47ms/step - accuracy: 0.3814 - loss: 1.7463 - val_accuracy: 0.1288 - val_loss: 2.4940\n",
      "Epoch 6/10\n",
      "\u001b[1m185/185\u001b[0m \u001b[32m━━━━━━━━━━━━━━━━━━━━\u001b[0m\u001b[37m\u001b[0m \u001b[1m9s\u001b[0m 48ms/step - accuracy: 0.4741 - loss: 1.5349 - val_accuracy: 0.1349 - val_loss: 2.6540\n",
      "Epoch 7/10\n",
      "\u001b[1m185/185\u001b[0m \u001b[32m━━━━━━━━━━━━━━━━━━━━\u001b[0m\u001b[37m\u001b[0m \u001b[1m9s\u001b[0m 49ms/step - accuracy: 0.5587 - loss: 1.3140 - val_accuracy: 0.1166 - val_loss: 2.7963\n",
      "Epoch 8/10\n",
      "\u001b[1m185/185\u001b[0m \u001b[32m━━━━━━━━━━━━━━━━━━━━\u001b[0m\u001b[37m\u001b[0m \u001b[1m9s\u001b[0m 49ms/step - accuracy: 0.6025 - loss: 1.1745 - val_accuracy: 0.1295 - val_loss: 3.0157\n",
      "Epoch 9/10\n",
      "\u001b[1m185/185\u001b[0m \u001b[32m━━━━━━━━━━━━━━━━━━━━\u001b[0m\u001b[37m\u001b[0m \u001b[1m9s\u001b[0m 50ms/step - accuracy: 0.6627 - loss: 1.0286 - val_accuracy: 0.1227 - val_loss: 3.1801\n",
      "Epoch 10/10\n",
      "\u001b[1m185/185\u001b[0m \u001b[32m━━━━━━━━━━━━━━━━━━━━\u001b[0m\u001b[37m\u001b[0m \u001b[1m9s\u001b[0m 49ms/step - accuracy: 0.7046 - loss: 0.9077 - val_accuracy: 0.1180 - val_loss: 3.3979\n"
     ]
    },
    {
     "data": {
      "text/plain": [
       "<keras.src.callbacks.history.History at 0x7f16d0983320>"
      ]
     },
     "execution_count": 8,
     "metadata": {},
     "output_type": "execute_result"
    }
   ],
   "source": [
    "num_classes = len(class_names)\n",
    "model = keras.Sequential([\n",
    "    keras.layers.Embedding(input_dim=20000, output_dim=128),\n",
    "    keras.layers.LSTM(128, return_sequences=False),\n",
    "    keras.layers.Dropout(0.5),\n",
    "    keras.layers.Dense(num_classes, activation='softmax'),\n",
    "])\n",
    "\n",
    "model.compile(optimizer='adam', loss='sparse_categorical_crossentropy', metrics=['accuracy'])\n",
    "model.fit(X_train, y_train, epochs=10, batch_size=batch_size, validation_data=(X_val, y_val))\n"
   ]
  },
  {
   "cell_type": "markdown",
   "metadata": {},
   "source": [
    "## モデルの評価"
   ]
  },
  {
   "cell_type": "code",
   "execution_count": 10,
   "metadata": {},
   "outputs": [
    {
     "name": "stdout",
     "output_type": "stream",
     "text": [
      "\u001b[1m1/1\u001b[0m \u001b[32m━━━━━━━━━━━━━━━━━━━━\u001b[0m\u001b[37m\u001b[0m \u001b[1m0s\u001b[0m 29ms/step\n",
      "予測されたカテゴリ: it-life-hack\n"
     ]
    }
   ],
   "source": [
    "text = \"人工知能が進化して、社会や仕事に与える影響は計り知れません。\"\n",
    "\n",
    "tokenized = mecab.parse(text).split()\n",
    "tokenized_ids = tokenizer.encode(\" \".join(tokenized)).ids\n",
    "padded = keras.utils.pad_sequences([tokenized_ids], maxlen=max_sequence_length, padding=\"post\", truncating=\"post\")\n",
    "processed_text = np.array(padded)\n",
    "\n",
    "prediction = model.predict(processed_text)\n",
    "predicted_class = np.argmax(prediction, axis=-1)[0]\n",
    "\n",
    "predicted_category = class_names[predicted_class]\n",
    "print(f\"予測されたカテゴリ: {predicted_category}\")"
   ]
  }
 ],
 "metadata": {
  "kernelspec": {
   "display_name": ".venv",
   "language": "python",
   "name": "python3"
  },
  "language_info": {
   "codemirror_mode": {
    "name": "ipython",
    "version": 3
   },
   "file_extension": ".py",
   "mimetype": "text/x-python",
   "name": "python",
   "nbconvert_exporter": "python",
   "pygments_lexer": "ipython3",
   "version": "3.12.1"
  }
 },
 "nbformat": 4,
 "nbformat_minor": 2
}
